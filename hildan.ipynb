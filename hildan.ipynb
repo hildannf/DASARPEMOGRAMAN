{
 "cells": [
  {
   "cell_type": "markdown",
   "id": "316724c5-104a-4881-b0e6-7e51cd9f4544",
   "metadata": {},
   "source": [
    "<h1>Aritmatika.py</h1>"
   ]
  },
  {
   "cell_type": "code",
   "execution_count": 1,
   "id": "5943aa22-303a-4790-9fc9-96a32d038ca1",
   "metadata": {},
   "outputs": [],
   "source": [
    "# aritmatika.py\n",
    "\n",
    "def penjumlahan(a, b):\n",
    "    return a + b\n",
    "\n",
    "def perpangkatan(a, b):\n",
    "    return a ** b\n",
    "\n",
    "def perkalian(a, b):\n",
    "    return a * b\n",
    "\n",
    "def menu_aritmatika():\n",
    "    while True:\n",
    "        print(\"\\n-- Menu Aritmatika --\")\n",
    "        print(\"1. Penjumlahan\")\n",
    "        print(\"2. Perpangkatan\")\n",
    "        print(\"3. Perkalian\")\n",
    "        print(\"4. Kembali ke Menu Utama\")\n",
    "        pilihan = input(\"Pilih operasi (1-4): \")\n",
    "        \n",
    "        if pilihan == '4':\n",
    "            break\n",
    "        if pilihan not in ['1', '2', '3']:\n",
    "            print(\"Pilihan tidak valid, coba lagi.\")\n",
    "            continue\n",
    "        \n",
    "        try:\n",
    "            a = float(input(\"Masukkan bilangan pertama: \"))\n",
    "            b = float(input(\"Masukkan bilangan kedua: \"))\n",
    "        except ValueError:\n",
    "            print(\"Input harus angka!\")\n",
    "            continue\n",
    "        \n",
    "        if pilihan == '1':\n",
    "            hasil = penjumlahan(a, b)\n",
    "            print(f\"Hasil penjumlahan: {hasil}\")\n",
    "        elif pilihan == '2':\n",
    "            hasil = perpangkatan(a, b)\n",
    "            print(f\"Hasil perpangkatan: {hasil}\")\n",
    "        elif pilihan == '3':\n",
    "            hasil = perkalian(a, b)\n",
    "            print(f\"Hasil perkalian: {hasil}\")"
   ]
  },
  {
   "cell_type": "markdown",
   "id": "70a384e6-e472-44ac-ae5a-f7d7f0a7ed8d",
   "metadata": {},
   "source": [
    "<h1>Konversi.py</h1>"
   ]
  },
  {
   "cell_type": "code",
   "execution_count": 2,
   "id": "b73e1818-3456-479f-98e3-aac248cfefd4",
   "metadata": {},
   "outputs": [],
   "source": [
    "# konversi.py\n",
    "\n",
    "def cm_to_m(cm):\n",
    "    return cm / 100\n",
    "\n",
    "def m_to_cm(m):\n",
    "    return m * 100\n",
    "\n",
    "def menu_konversi():\n",
    "    while True:\n",
    "        print(\"\\n-- Menu Konversi --\")\n",
    "        print(\"1. CM to M\")\n",
    "        print(\"2. M to CM\")\n",
    "        print(\"3. Kembali ke Menu Utama\")\n",
    "        pilihan = input(\"Pilih konversi (1-3): \")\n",
    "        \n",
    "        if pilihan == '3':\n",
    "            break\n",
    "        if pilihan not in ['1', '2']:\n",
    "            print(\"Pilihan tidak valid, coba lagi.\")\n",
    "            continue\n",
    "        \n",
    "        try:\n",
    "            nilai = float(input(\"Masukkan nilai desimal: \"))\n",
    "        except ValueError:\n",
    "            print(\"Input harus angka!\")\n",
    "            continue\n",
    "        \n",
    "        if pilihan == '1':\n",
    "            hasil = cm_to_m(nilai)\n",
    "            print(f\"{nilai} cm = {hasil} m\")\n",
    "        elif pilihan == '2':\n",
    "            hasil = m_to_cm(nilai)\n",
    "            print(f\"{nilai} m = {hasil} cm\")"
   ]
  },
  {
   "cell_type": "markdown",
   "id": "9a3cd37c-3f0f-4464-80e5-9918f509ebba",
   "metadata": {},
   "source": [
    "<h1>Ubah_bilangan.py</h1>"
   ]
  },
  {
   "cell_type": "code",
   "execution_count": 3,
   "id": "bc52ad48-13ba-4a55-9129-6a40eb720bde",
   "metadata": {},
   "outputs": [],
   "source": [
    "# ubah_bilangan.py\n",
    "\n",
    "def desimal_to_biner(n):\n",
    "    return bin(n)[2:]\n",
    "\n",
    "def desimal_to_oktal(n):\n",
    "    return oct(n)[2:]\n",
    "\n",
    "def desimal_to_heksadesimal(n):\n",
    "    return hex(n)[2:].upper()\n",
    "\n",
    "def menu_ubah_bilangan():\n",
    "    while True:\n",
    "        print(\"\\n-- Menu Ubah Bilangan --\")\n",
    "        print(\"1. Desimal to Biner\")\n",
    "        print(\"2. Desimal to Oktal\")\n",
    "        print(\"3. Desimal to Hexadesimal\")\n",
    "        print(\"4. Kembali ke Menu Utama\")\n",
    "        pilihan = input(\"Pilih konversi (1-4): \")\n",
    "        \n",
    "        if pilihan == '4':\n",
    "            break\n",
    "        if pilihan not in ['1', '2', '3']:\n",
    "            print(\"Pilihan tidak valid, coba lagi.\")\n",
    "            continue\n",
    "        \n",
    "        try:\n",
    "            n = int(input(\"Masukkan bilangan desimal (integer): \"))\n",
    "        except ValueError:\n",
    "            print(\"Input harus bilangan bulat!\")\n",
    "            continue\n",
    "        \n",
    "        if pilihan == '1':\n",
    "            hasil = desimal_to_biner(n)\n",
    "            print(f\"Desimal {n} ke Biner = {hasil}\")\n",
    "        elif pilihan == '2':\n",
    "            hasil = desimal_to_oktal(n)\n",
    "            print(f\"Desimal {n} ke Oktal = {hasil}\")\n",
    "        elif pilihan == '3':\n",
    "            hasil = desimal_to_heksadesimal(n)\n",
    "            print(f\"Desimal {n} ke Hexadesimal = {hasil}\")"
   ]
  },
  {
   "cell_type": "markdown",
   "id": "958bf83a-7a48-464f-a6cd-b006cdecee21",
   "metadata": {},
   "source": [
    "<h1>main.py</h1>"
   ]
  },
  {
   "cell_type": "code",
   "execution_count": 5,
   "id": "e46549fc-5b15-4d57-8af6-bcec10c05e9b",
   "metadata": {},
   "outputs": [
    {
     "name": "stdout",
     "output_type": "stream",
     "text": [
      "\n",
      "=== Menu Utama ===\n",
      "1. Aritmatika\n",
      "2. Konversi\n",
      "3. Ubah Bilangan\n",
      "4. Keluar\n"
     ]
    },
    {
     "name": "stdin",
     "output_type": "stream",
     "text": [
      "Pilih menu (1-4):  1\n"
     ]
    },
    {
     "name": "stdout",
     "output_type": "stream",
     "text": [
      "\n",
      "-- Menu Aritmatika --\n",
      "1. Penjumlahan\n",
      "2. Perpangkatan\n",
      "3. Perkalian\n",
      "4. Kembali ke Menu Utama\n"
     ]
    },
    {
     "name": "stdin",
     "output_type": "stream",
     "text": [
      "Pilih operasi (1-4):  2\n",
      "Masukkan bilangan pertama:  05\n",
      "Masukkan bilangan kedua:  23\n"
     ]
    },
    {
     "name": "stdout",
     "output_type": "stream",
     "text": [
      "Hasil perpangkatan: 1.1920928955078124e+16\n",
      "\n",
      "-- Menu Aritmatika --\n",
      "1. Penjumlahan\n",
      "2. Perpangkatan\n",
      "3. Perkalian\n",
      "4. Kembali ke Menu Utama\n"
     ]
    },
    {
     "name": "stdin",
     "output_type": "stream",
     "text": [
      "Pilih operasi (1-4):  3\n",
      "Masukkan bilangan pertama:  15\n",
      "Masukkan bilangan kedua:  6\n"
     ]
    },
    {
     "name": "stdout",
     "output_type": "stream",
     "text": [
      "Hasil perkalian: 90.0\n",
      "\n",
      "-- Menu Aritmatika --\n",
      "1. Penjumlahan\n",
      "2. Perpangkatan\n",
      "3. Perkalian\n",
      "4. Kembali ke Menu Utama\n"
     ]
    },
    {
     "name": "stdin",
     "output_type": "stream",
     "text": [
      "Pilih operasi (1-4):  4\n"
     ]
    },
    {
     "name": "stdout",
     "output_type": "stream",
     "text": [
      "\n",
      "=== Menu Utama ===\n",
      "1. Aritmatika\n",
      "2. Konversi\n",
      "3. Ubah Bilangan\n",
      "4. Keluar\n"
     ]
    },
    {
     "name": "stdin",
     "output_type": "stream",
     "text": [
      "Pilih menu (1-4):  4\n"
     ]
    },
    {
     "name": "stdout",
     "output_type": "stream",
     "text": [
      "Terima kasih telah menggunakan program ini.\n"
     ]
    }
   ],
   "source": [
    "def penjumlahan(a, b):\n",
    "    return a + b\n",
    "\n",
    "def perpangkatan(a, b):\n",
    "    return a ** b\n",
    "\n",
    "def perkalian(a, b):\n",
    "    return a * b\n",
    "\n",
    "def cm_to_m(cm):\n",
    "    return cm / 100\n",
    "\n",
    "def m_to_cm(m):\n",
    "    return m * 100\n",
    "\n",
    "def desimal_to_biner(n):\n",
    "    return bin(n)[2:]\n",
    "\n",
    "def desimal_to_oktal(n):\n",
    "    return oct(n)[2:]\n",
    "\n",
    "def desimal_to_heksadesimal(n):\n",
    "    return hex(n)[2:].upper()\n",
    "\n",
    "def menu_aritmatika():\n",
    "    while True:\n",
    "        print(\"\\n-- Menu Aritmatika --\")\n",
    "        print(\"1. Penjumlahan\")\n",
    "        print(\"2. Perpangkatan\")\n",
    "        print(\"3. Perkalian\")\n",
    "        print(\"4. Kembali ke Menu Utama\")\n",
    "        pilihan = input(\"Pilih operasi (1-4): \")\n",
    "        \n",
    "        if pilihan == '4':\n",
    "            break\n",
    "        if pilihan not in ['1', '2', '3']:\n",
    "            print(\"Pilihan tidak valid, coba lagi.\")\n",
    "            continue\n",
    "        \n",
    "        try:\n",
    "            a = float(input(\"Masukkan bilangan pertama: \"))\n",
    "            b = float(input(\"Masukkan bilangan kedua: \"))\n",
    "        except ValueError:\n",
    "            print(\"Input harus angka!\")\n",
    "            continue\n",
    "        \n",
    "        if pilihan == '1':\n",
    "            hasil = penjumlahan(a, b)\n",
    "            print(f\"Hasil penjumlahan: {hasil}\")\n",
    "        elif pilihan == '2':\n",
    "            hasil = perpangkatan(a, b)\n",
    "            print(f\"Hasil perpangkatan: {hasil}\")\n",
    "        elif pilihan == '3':\n",
    "            hasil = perkalian(a, b)\n",
    "            print(f\"Hasil perkalian: {hasil}\")\n",
    "\n",
    "def menu_konversi():\n",
    "    while True:\n",
    "        print(\"\\n-- Menu Konversi --\")\n",
    "        print(\"1. CM to M\")\n",
    "        print(\"2. M to CM\")\n",
    "        print(\"3. Kembali ke Menu Utama\")\n",
    "        pilihan = input(\"Pilih konversi (1-3): \")\n",
    "        \n",
    "        if pilihan == '3':\n",
    "            break\n",
    "        if pilihan not in ['1', '2']:\n",
    "            print(\"Pilihan tidak valid, coba lagi.\")\n",
    "            continue\n",
    "        \n",
    "        try:\n",
    "            nilai = float(input(\"Masukkan nilai desimal: \"))\n",
    "        except ValueError:\n",
    "            print(\"Input harus angka!\")\n",
    "            continue\n",
    "        \n",
    "        if pilihan == '1':\n",
    "            hasil = cm_to_m(nilai)\n",
    "            print(f\"{nilai} cm = {hasil} m\")\n",
    "        elif pilihan == '2':\n",
    "            hasil = m_to_cm(nilai)\n",
    "            print(f\"{nilai} m = {hasil} cm\")\n",
    "\n",
    "def menu_ubah_bilangan():\n",
    "    while True:\n",
    "        print(\"\\n-- Menu Ubah Bilangan --\")\n",
    "        print(\"1. Desimal to Biner\")\n",
    "        print(\"2. Desimal to Oktal\")\n",
    "        print(\"3. Desimal to Hexadesimal\")\n",
    "        print(\"4. Kembali ke Menu Utama\")\n",
    "        pilihan = input(\"Pilih konversi (1-4): \")\n",
    "        \n",
    "        if pilihan == '4':\n",
    "            break\n",
    "        if pilihan not in ['1', '2', '3']:\n",
    "            print(\"Pilihan tidak valid, coba lagi.\")\n",
    "            continue\n",
    "        \n",
    "        try:\n",
    "            n = int(input(\"Masukkan bilangan desimal (integer): \"))\n",
    "        except ValueError:\n",
    "            print(\"Input harus bilangan bulat!\")\n",
    "            continue\n",
    "        \n",
    "        if pilihan == '1':\n",
    "            hasil = desimal_to_biner(n)\n",
    "            print(f\"Desimal {n} ke Biner = {hasil}\")\n",
    "        elif pilihan == '2':\n",
    "            hasil = desimal_to_oktal(n)\n",
    "            print(f\"Desimal {n} ke Oktal = {hasil}\")\n",
    "        elif pilihan == '3':\n",
    "            hasil = desimal_to_heksadesimal(n)\n",
    "            print(f\"Desimal {n} ke Hexadesimal = {hasil}\")\n",
    "\n",
    "def main():\n",
    "    while True:\n",
    "        print(\"\\n=== Menu Utama ===\")\n",
    "        print(\"1. Aritmatika\")\n",
    "        print(\"2. Konversi\")\n",
    "        print(\"3. Ubah Bilangan\")\n",
    "        print(\"4. Keluar\")\n",
    "        pilihan = input(\"Pilih menu (1-4): \")\n",
    "        \n",
    "        if pilihan == '1':\n",
    "            menu_aritmatika()\n",
    "        elif pilihan == '2':\n",
    "            menu_konversi()\n",
    "        elif pilihan == '3':\n",
    "            menu_ubah_bilangan()\n",
    "        elif pilihan == '4':\n",
    "            print(\"Terima kasih telah menggunakan program ini.\")\n",
    "            break\n",
    "        else:\n",
    "            print(\"Pilihan tidak valid, coba lagi.\")\n",
    "\n",
    "if __name__ == \"__main__\":\n",
    "    main()"
   ]
  },
  {
   "cell_type": "code",
   "execution_count": null,
   "id": "2f7cf85a-5311-48f0-bef9-2bc22dad786d",
   "metadata": {},
   "outputs": [],
   "source": []
  }
 ],
 "metadata": {
  "kernelspec": {
   "display_name": "Python 3 (ipykernel)",
   "language": "python",
   "name": "python3"
  },
  "language_info": {
   "codemirror_mode": {
    "name": "ipython",
    "version": 3
   },
   "file_extension": ".py",
   "mimetype": "text/x-python",
   "name": "python",
   "nbconvert_exporter": "python",
   "pygments_lexer": "ipython3",
   "version": "3.12.7"
  }
 },
 "nbformat": 4,
 "nbformat_minor": 5
}

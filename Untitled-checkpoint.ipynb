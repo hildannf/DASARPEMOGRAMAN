{
 "cells": [
  {
   "cell_type": "code",
   "execution_count": 1,
   "id": "44f1758d-26eb-46d3-80b3-217314a348f3",
   "metadata": {},
   "outputs": [
    {
     "name": "stdin",
     "output_type": "stream",
     "text": [
      "Masukkan Nama:  hildan fahlevi\n",
      "Masukkan Umur:  20\n",
      "Masukkan Alamat:  pelabuhan ratu\n"
     ]
    },
    {
     "name": "stdout",
     "output_type": "stream",
     "text": [
      "\n",
      "=== BIODATA ===\n",
      "Nama: hildan fahlevi\n",
      "Umur: 20\n",
      "Alamat: pelabuhan ratu\n"
     ]
    }
   ],
   "source": [
    "nama = input(\"Masukkan Nama: \")\n",
    "umur = input(\"Masukkan Umur: \")\n",
    "alamat = input(\"Masukkan Alamat: \")\n",
    "\n",
    "biodata = \"Nama: {}\\nUmur: {}\\nAlamat: {}\".format(nama, umur, alamat)\n",
    "print(\"\\n=== BIODATA ===\")\n",
    "print(biodata)"
   ]
  },
  {
   "cell_type": "code",
   "execution_count": 2,
   "id": "e17e241d-a96e-4349-b95c-294bf9236b28",
   "metadata": {},
   "outputs": [
    {
     "name": "stdout",
     "output_type": "stream",
     "text": [
      "\n",
      "a. putra nusa\n",
      "b. NIVERSITAS NSA PTRA SKABMI\n",
      "c. SUKABUMI PUTRA NUSA UNIVERSITAS\n",
      "d. UNPS\n",
      "e. SIT USA BUMI\n"
     ]
    }
   ],
   "source": [
    "kalimat = \"UNIVERSITAS NUSA PUTRA SUKABUMI\"\n",
    "\n",
    "# 1. Menukar Posisi\n",
    "output_a = \" \".join(kalimat.split()[2:0:-1]).lower()\n",
    "\n",
    "# 2. Menghapus huruf U dan memodifikasinya\n",
    "output_b = kalimat.replace(\"U\", \"\")\n",
    "\n",
    "# 3. Membalik urutan kata\n",
    "output_c = \" \".join(kalimat.split()[::-1])\n",
    "\n",
    "# 4. mengambil huruf pertama dari setiap kata\n",
    "output_d = \"\".join([word[0] for word in kalimat.split()])\n",
    "\n",
    "# 5. mengambil beberapa suku kata\n",
    "output_e = kalimat[6:9] + \" \" + kalimat[13:16] + \" \" + kalimat[-4:]\n",
    "\n",
    "# Cetak hasil\n",
    "print(\"\\na.\", output_a)\n",
    "print(\"b.\", output_b)\n",
    "print(\"c.\", output_c)\n",
    "print(\"d.\", output_d)\n",
    "print(\"e.\", output_e)"
   ]
  },
  {
   "cell_type": "code",
   "execution_count": null,
   "id": "af84abfc-0e3b-4609-a85d-eece1d68b863",
   "metadata": {},
   "outputs": [],
   "source": []
  }
 ],
 "metadata": {
  "kernelspec": {
   "display_name": "Python 3 (ipykernel)",
   "language": "python",
   "name": "python3"
  },
  "language_info": {
   "codemirror_mode": {
    "name": "ipython",
    "version": 3
   },
   "file_extension": ".py",
   "mimetype": "text/x-python",
   "name": "python",
   "nbconvert_exporter": "python",
   "pygments_lexer": "ipython3",
   "version": "3.12.7"
  }
 },
 "nbformat": 4,
 "nbformat_minor": 5
}
